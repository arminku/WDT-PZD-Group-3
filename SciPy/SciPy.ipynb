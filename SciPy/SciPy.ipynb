{
 "cells": [
  {
   "cell_type": "markdown",
   "metadata": {},
   "source": [
    "Bitte gehen Sie sicher, dass das Notebook komplett durchläuft bevor Sie die Lösung einreichen!.\n",
    "Wählen Sie dazu **Kernel -> Restart & Run All**\n",
    "\n",
    "Füllen Sie alle Stellen aus, an denen Sie `Your Code HERE` oder \"YOUR ANSWER HERE\" finden. Schließlich tragen Sie Ihren Namen ein in der nächsten Zelle ein."
   ]
  },
  {
   "cell_type": "code",
   "execution_count": null,
   "metadata": {},
   "outputs": [],
   "source": [
    "NAME = \"Armin Kulla\""
   ]
  },
  {
   "cell_type": "markdown",
   "metadata": {},
   "source": [
    "---"
   ]
  },
  {
   "cell_type": "markdown",
   "metadata": {
    "deletable": false,
    "editable": false,
    "nbgrader": {
     "cell_type": "markdown",
     "checksum": "aa1c7855ed3a1d8a100c17918b346c4c",
     "grade": false,
     "grade_id": "cell-62e26b5a6bccfa0b",
     "locked": true,
     "schema_version": 3,
     "solution": false,
     "task": false
    }
   },
   "source": [
    "# Das SciPy Paket\n",
    "Eine große Sammlung an verschiedensten Funktionalitäten. Die folgenden Übungen sollen ein wenig auf diese aufmerksam machen."
   ]
  },
  {
   "cell_type": "markdown",
   "metadata": {
    "deletable": false,
    "editable": false,
    "nbgrader": {
     "cell_type": "markdown",
     "checksum": "94cf36188cd2c42e7f807bb4aa95732f",
     "grade": false,
     "grade_id": "cell-4a685c8e42d217ed",
     "locked": true,
     "schema_version": 3,
     "solution": false,
     "task": false
    }
   },
   "source": [
    "## Die Submodule\n",
    "Im folgenden werden die einzelnen Module von SciPy geladen. Nutzbar sind sie dann z.B. mit:\n",
    "```Python\n",
    "integrate.quad()\n",
    "```"
   ]
  },
  {
   "cell_type": "code",
   "execution_count": 6,
   "metadata": {
    "ExecuteTime": {
     "end_time": "2020-06-06T13:31:14.132043Z",
     "start_time": "2020-06-06T13:31:13.816286Z"
    }
   },
   "outputs": [],
   "source": [
    "from scipy import integrate, optimize, interpolate, linalg, ndimage\n",
    "import numpy as np\n",
    "import matplotlib.pyplot as plt\n"
   ]
  },
  {
   "cell_type": "markdown",
   "metadata": {
    "deletable": false,
    "editable": false,
    "nbgrader": {
     "cell_type": "markdown",
     "checksum": "25e373a62d68c2df47a9d016c04baa31",
     "grade": false,
     "grade_id": "cell-b0a5d219a793e9ea",
     "locked": true,
     "schema_version": 3,
     "solution": false,
     "task": false
    }
   },
   "source": [
    "NumPy wird verwendet um einfach Daten zu erzeugen. Mit der Matplotlib können die Ergebnisse dargestellt werden."
   ]
  },
  {
   "cell_type": "markdown",
   "metadata": {
    "deletable": false,
    "editable": false,
    "nbgrader": {
     "cell_type": "markdown",
     "checksum": "470553346afe111d0bd9d6f208595aa2",
     "grade": false,
     "grade_id": "cell-7c50cbeb9b024902",
     "locked": true,
     "schema_version": 3,
     "solution": false,
     "task": false
    }
   },
   "source": [
    "# Aufgabe 1 - Integration\n",
    "Mit SciPy können zwei grundlegend verschiedene Arten von Integration verwendet werden. Die diskrete Integration und die Integration von Funktionen."
   ]
  },
  {
   "cell_type": "markdown",
   "metadata": {
    "deletable": false,
    "editable": false,
    "nbgrader": {
     "cell_type": "markdown",
     "checksum": "b78a6d807c4aa378820f94c6777bf143",
     "grade": false,
     "grade_id": "cell-a898797dd3d09600",
     "locked": true,
     "schema_version": 3,
     "solution": false,
     "task": false
    }
   },
   "source": [
    "## a - Diskrete Integration\n",
    "Oft sind nur diskrete Werte, z.B. bei der Messung von Versuchsreihen bekannt. Dafür werden die Funktionen\n",
    "```Python\n",
    "integrate.trapz()\n",
    "integrate.cumtrapz()\n",
    "integrate.simps()\n",
    "integrate.romb()\n",
    "```\n",
    "verwendet. Nutzen Sie alle vier Funktionen für folgende Daten:"
   ]
  },
  {
   "cell_type": "code",
   "execution_count": 7,
   "metadata": {
    "ExecuteTime": {
     "end_time": "2020-06-06T13:31:14.136512Z",
     "start_time": "2020-06-06T13:31:14.133608Z"
    }
   },
   "outputs": [],
   "source": [
    "x_points = np.linspace(0, 10, 10)\n",
    "y_points = np.array([1.0, 0.1736, -0.9397, -0.5, 0.766, 0.766, -0.5, -0.9397, 0.1736, 1.0])"
   ]
  },
  {
   "cell_type": "code",
   "execution_count": 34,
   "metadata": {
    "ExecuteTime": {
     "end_time": "2020-06-06T13:31:14.233750Z",
     "start_time": "2020-06-06T13:31:14.138721Z"
    },
    "deletable": false,
    "nbgrader": {
     "cell_type": "code",
     "checksum": "8ba513e6a561b776c0eb263ddbeda5af",
     "grade": false,
     "grade_id": "cell-distint",
     "locked": false,
     "schema_version": 3,
     "solution": true,
     "task": false
    },
    "scrolled": true
   },
   "outputs": [
    {
     "name": "stdout",
     "output_type": "stream",
     "text": [
      "-0.0002222222222229009\n",
      "[ 6.52000000e-01  2.26388889e-01 -5.73444444e-01 -4.25666667e-01\n",
      "  4.25444444e-01  5.73222222e-01 -2.26611111e-01 -6.52222222e-01\n",
      " -2.22222222e-04]\n",
      "-0.15325925925926054\n",
      "\n",
      "       Richardson Extrapolation Table for Romberg Integration       \n",
      "====================================================================\n",
      " 4.69440 \n",
      " 5.41120  5.65013 \n",
      "-0.17380 -2.03547 -2.54784 \n",
      "-0.58700 -0.72473 -0.63735 -0.60703 \n",
      "====================================================================\n",
      "\n"
     ]
    },
    {
     "data": {
      "text/plain": [
       "-0.6070258906525574"
      ]
     },
     "execution_count": 34,
     "metadata": {},
     "output_type": "execute_result"
    },
    {
     "data": {
      "image/png": "[encoded data removed]",
      "text/plain": [
       "<Figure size 432x288 with 1 Axes>"
      ]
     },
     "metadata": {
      "needs_background": "light"
     },
     "output_type": "display_data"
    }
   ],
   "source": [
    "fig= plt.figure()\n",
    "plt.scatter(x_points,y_points)\n",
    "plt.plot(x_points,y_points)\n",
    "\n",
    "print(integrate.trapz(y_points,x_points))\n",
    "\n",
    "\n",
    "print(integrate.cumtrapz(y_points,x_points))\n",
    "print(integrate.simps(y_points,x_points))\n",
    "integrate.romb(y_points[0:-1],show=True)\n"
   ]
  },
  {
   "cell_type": "code",
   "execution_count": null,
   "metadata": {
    "ExecuteTime": {
     "end_time": "2020-06-06T13:31:14.341467Z",
     "start_time": "2020-06-06T13:31:14.236776Z"
    },
    "deletable": false,
    "editable": false,
    "nbgrader": {
     "cell_type": "code",
     "checksum": "ed346d9af4c1d91fb596ee55778c2e20",
     "grade": true,
     "grade_id": "cell-distint-test",
     "locked": true,
     "points": 1,
     "schema_version": 3,
     "solution": false,
     "task": false
    }
   },
   "outputs": [],
   "source": [
    "assert round(trapz, 5) == -0.00022\n",
    "assert round(simps, 5) == -0.15326\n",
    "assert np.array_equal(np.round(cumtrapz, 3), [0.652, 0.226, -0.573, -0.426, 0.425, 0.573, -0.227, -0.652, 0.])"
   ]
  },
  {
   "cell_type": "markdown",
   "metadata": {
    "ExecuteTime": {
     "end_time": "2020-06-06T09:04:28.145404Z",
     "start_time": "2020-06-06T09:04:28.012132Z"
    },
    "deletable": false,
    "editable": false,
    "nbgrader": {
     "cell_type": "markdown",
     "checksum": "57bef17707ee621b7bf6b2e1575fc684",
     "grade": false,
     "grade_id": "cell-50c0714c687b8593",
     "locked": true,
     "schema_version": 3,
     "solution": false,
     "task": false
    }
   },
   "source": [
    "Wie unterscheiden sich die Ergebnisse der verschiedenen Integrationsfunktionen, wann ist welche Funktion sinnvoll?"
   ]
  },
  {
   "cell_type": "markdown",
   "metadata": {
    "deletable": false,
    "nbgrader": {
     "cell_type": "markdown",
     "checksum": "d42444ff7fccf8a56a518ebd150db7b7",
     "grade": true,
     "grade_id": "cell-distint-quest",
     "locked": false,
     "points": 1,
     "schema_version": 3,
     "solution": true,
     "task": false
    }
   },
   "source": [
    "YOUR ANSWER HERE"
   ]
  },
  {
   "cell_type": "markdown",
   "metadata": {
    "deletable": false,
    "editable": false,
    "nbgrader": {
     "cell_type": "markdown",
     "checksum": "acedc933fbdc13ffb03aef1b42712946",
     "grade": false,
     "grade_id": "cell-622f9de747dfdf7d",
     "locked": true,
     "schema_version": 3,
     "solution": false,
     "task": false
    }
   },
   "source": [
    "## b - Integration von Funktionen\n",
    "Ist eine Funktion bekannt, kann auch direkt über diese integriert werden. Dafür werden in der Regel die Funktionen\n",
    "```Python\n",
    "integrate.quad()\n",
    "integrate.dblquad()\n",
    "itegrate.tplquad()\n",
    "```\n",
    "verwendet, je nach Anwendungsfall. Lösen Sie nun folgende Gleichung:\n",
    "$i = \\int_0^1 \\mathrm{d}y \\int_0^y \\mathrm{d}x x^2 \\cdot y$"
   ]
  },
  {
   "cell_type": "code",
   "execution_count": 57,
   "metadata": {
    "ExecuteTime": {
     "end_time": "2020-06-06T13:31:14.450821Z",
     "start_time": "2020-06-06T13:31:14.343727Z"
    },
    "deletable": false,
    "nbgrader": {
     "cell_type": "code",
     "checksum": "a35ec91ef8ed85c4dcb4d2da813dd245",
     "grade": false,
     "grade_id": "cell-funcint",
     "locked": false,
     "schema_version": 3,
     "solution": true,
     "task": false
    }
   },
   "outputs": [
    {
     "name": "stdout",
     "output_type": "stream",
     "text": [
      "(0.5, 5.551115123125783e-15)\n"
     ]
    }
   ],
   "source": [
    "# YOUR CODE HERE\n",
    "def integrand(y,x):\n",
    "    return y*x**2\n",
    "def expint(y,x):\n",
    "    return integrate.quad(integrand,0,y, args=(y))[0]\n",
    "result=integrate.quad(lambda x: expint(1, x), 0, 1)                          \n",
    "print(result)                        \n",
    "#y=1\n",
    "#integrate.quad(integrand,0,y,args=(y)),0,1)[0]*integrate.quad(1,0,1)\n",
    "#integrate.dblquad()\n",
    "#itegrate.tplquad()"
   ]
  },
  {
   "cell_type": "code",
   "execution_count": null,
   "metadata": {
    "ExecuteTime": {
     "end_time": "2020-06-06T13:31:14.557235Z",
     "start_time": "2020-06-06T13:31:14.453336Z"
    },
    "deletable": false,
    "editable": false,
    "nbgrader": {
     "cell_type": "code",
     "checksum": "5ff1ba518a17106ea84c4be285ac866e",
     "grade": true,
     "grade_id": "cell-funcint-test",
     "locked": true,
     "points": 1,
     "schema_version": 3,
     "solution": false,
     "task": false
    }
   },
   "outputs": [],
   "source": [
    "assert round(i, 5) == round(1 / 15,5)"
   ]
  },
  {
   "cell_type": "markdown",
   "metadata": {
    "deletable": false,
    "editable": false,
    "nbgrader": {
     "cell_type": "markdown",
     "checksum": "1fddb72b84de989b8dbbbb59002e92f1",
     "grade": false,
     "grade_id": "cell-cfc114eb5dd0cd3c",
     "locked": true,
     "schema_version": 3,
     "solution": false,
     "task": false
    }
   },
   "source": [
    "## Aufgabe 2 - Optimization\n",
    "Das `optimize` Paket hat viele Anwendungsfälle, die Auffälligste ist `curve_fit`. Abgesehen davon gibt es jedoch viele weitere spannende Anwendungsfälle, die namensgebende Optimierung geht doch deutlich weiter als die Kurvenanpassung."
   ]
  },
  {
   "cell_type": "markdown",
   "metadata": {
    "deletable": false,
    "editable": false,
    "nbgrader": {
     "cell_type": "markdown",
     "checksum": "9f1982fbfa85ccaf5fef59534f3c1424",
     "grade": false,
     "grade_id": "cell-1ad4b7a9931a891c",
     "locked": true,
     "schema_version": 3,
     "solution": false,
     "task": false
    }
   },
   "source": [
    "### Kurvenanpassung\n",
    "Eine der wichtigesten Anwendungsfälle, das Fitten von Kurven an gegebene Daten. Es können beliebige Funktionen an beliebige Daten gefittet werden. Passen Sie die Funktion\n",
    "$f(x) = a \\cdot x^3 + b \\cdot x + c \\cdot \\cos(d \\cdot x)$\n",
    "an die folgenden Daten an:"
   ]
  },
  {
   "cell_type": "code",
   "execution_count": null,
   "metadata": {
    "ExecuteTime": {
     "end_time": "2020-06-06T13:31:14.665760Z",
     "start_time": "2020-06-06T13:31:14.559297Z"
    }
   },
   "outputs": [],
   "source": [
    "x_points = np.linspace(-3, 3, 40)\n",
    "y_points = [-12.561, -3.08, -5.288, -3.27, -3.005, -1.073, 0.076, -2.791, -0.578, -0.402, 4.889, -0.558,\n",
    "            2.549, -0.645, 2.255, 0.747, 2.181, 5.982, 0.468, 5.099, -1.009, 3.045, 2.104, 1.116, -0.6,\n",
    "            -2.166, -4.026, -5.148, -9.304, -10.621, -6.754, -3.028, -8.143, -2.574, -0.422, 2.701, 7.793,\n",
    "            10.045, 7.882, 16.227]"
   ]
  },
  {
   "cell_type": "code",
   "execution_count": null,
   "metadata": {
    "ExecuteTime": {
     "end_time": "2020-06-06T13:31:14.819544Z",
     "start_time": "2020-06-06T13:31:14.671722Z"
    },
    "deletable": false,
    "nbgrader": {
     "cell_type": "code",
     "checksum": "bd213737462ed841182d7423c58c668e",
     "grade": false,
     "grade_id": "cell-curvefit",
     "locked": false,
     "schema_version": 3,
     "solution": true,
     "task": false
    }
   },
   "outputs": [],
   "source": [
    "# YOUR CODE HERE\n",
    "raise NotImplementedError()"
   ]
  },
  {
   "cell_type": "markdown",
   "metadata": {
    "deletable": false,
    "editable": false,
    "nbgrader": {
     "cell_type": "markdown",
     "checksum": "65a195e425b4a8e773aa5d93961b5f06",
     "grade": false,
     "grade_id": "cell-e181267d77249695",
     "locked": true,
     "schema_version": 3,
     "solution": false,
     "task": false
    }
   },
   "source": [
    "Speichern Sie für den automatischen Test die Werte für `a, b, c, d` in die Variable `p` als\n",
    "```Python\n",
    "p = [a, b, c, d]\n",
    "```"
   ]
  },
  {
   "cell_type": "code",
   "execution_count": null,
   "metadata": {
    "ExecuteTime": {
     "end_time": "2020-06-06T13:31:14.906553Z",
     "start_time": "2020-06-06T13:31:14.821867Z"
    },
    "deletable": false,
    "editable": false,
    "nbgrader": {
     "cell_type": "code",
     "checksum": "d7659e75d24f71cff154a0165573b942",
     "grade": true,
     "grade_id": "cell-curvefit-test",
     "locked": true,
     "points": 1,
     "schema_version": 3,
     "solution": false,
     "task": false
    }
   },
   "outputs": [],
   "source": []
  },
  {
   "cell_type": "markdown",
   "metadata": {
    "deletable": false,
    "editable": false,
    "nbgrader": {
     "cell_type": "markdown",
     "checksum": "b4fc8e15af31a9f60a7d7a44cc7c45b5",
     "grade": false,
     "grade_id": "cell-74028431fd6e0f17",
     "locked": true,
     "schema_version": 3,
     "solution": false,
     "task": false
    }
   },
   "source": [
    "Stellen Sie in einem Plot die Datenpunkte und den Fit dar."
   ]
  },
  {
   "cell_type": "code",
   "execution_count": null,
   "metadata": {
    "ExecuteTime": {
     "end_time": "2020-06-06T13:31:15.783519Z",
     "start_time": "2020-06-06T13:31:14.909538Z"
    },
    "deletable": false,
    "nbgrader": {
     "cell_type": "code",
     "checksum": "5b0b2cad6734416b923be4143e0ea5ae",
     "grade": true,
     "grade_id": "cell-curvefit-plot",
     "locked": false,
     "points": 1,
     "schema_version": 3,
     "solution": true,
     "task": false
    }
   },
   "outputs": [],
   "source": [
    "# YOUR CODE HERE\n",
    "raise NotImplementedError()"
   ]
  },
  {
   "cell_type": "markdown",
   "metadata": {
    "deletable": false,
    "editable": false,
    "nbgrader": {
     "cell_type": "markdown",
     "checksum": "baa026a3ea824543bbf5cda8c1f42e61",
     "grade": false,
     "grade_id": "cell-dd866d48d1459ae2",
     "locked": true,
     "schema_version": 3,
     "solution": false,
     "task": false
    }
   },
   "source": [
    "## Aufgabe 3 - Interpolation\n",
    "Mit Interpolation wird es möglich Datensätze auf neue Punkte zu erweitern. Es gibt eine große Menge an Anwendungsmöglichkeiten, wobei aber auch immer auf die richtige Anwendung geachtet werden sollte."
   ]
  },
  {
   "cell_type": "markdown",
   "metadata": {
    "deletable": false,
    "editable": false,
    "nbgrader": {
     "cell_type": "markdown",
     "checksum": "78f02b9e393eae75c1ab60b6eeb7a125",
     "grade": false,
     "grade_id": "cell-cadeae019f297f2d",
     "locked": true,
     "schema_version": 3,
     "solution": false,
     "task": false
    }
   },
   "source": [
    "### a - 1-D Interpolation\n",
    "Im einfachsten Fall mit einer Dimension kann man sich die verschiednen Optionen betrachten. Berechnen Sie eine\n",
    "* lineare\n",
    "* quadratische\n",
    "* kubische\n",
    "\n",
    "Interpolation der folgenden Daten:"
   ]
  },
  {
   "cell_type": "code",
   "execution_count": null,
   "metadata": {
    "ExecuteTime": {
     "end_time": "2020-06-06T13:31:15.788198Z",
     "start_time": "2020-06-06T13:31:15.784981Z"
    }
   },
   "outputs": [],
   "source": [
    "x_points = np.linspace(-2, 2, 8)\n",
    "y_points = np.array([0.38, 1.9481, 0.3256, -1.7719, -2.9082, -2.9266, -2.9498, -5.38])\n",
    "x_plot = np.linspace(-2, 2, 200)"
   ]
  },
  {
   "cell_type": "markdown",
   "metadata": {},
   "source": [
    "Stellen Sie alle 3 Interpolationsmöglichkeiten in einem Plot dar und nutzen Sie `x_plot` für die x-Werte des Graphen."
   ]
  },
  {
   "cell_type": "code",
   "execution_count": null,
   "metadata": {
    "ExecuteTime": {
     "end_time": "2020-06-06T13:31:16.390004Z",
     "start_time": "2020-06-06T13:31:15.789418Z"
    },
    "deletable": false,
    "nbgrader": {
     "cell_type": "code",
     "checksum": "1b6076f8ee9515cf68161d166075805a",
     "grade": true,
     "grade_id": "cell-interpolate",
     "locked": false,
     "points": 1,
     "schema_version": 3,
     "solution": true,
     "task": false
    }
   },
   "outputs": [],
   "source": [
    "# YOUR CODE HERE\n",
    "raise NotImplementedError()"
   ]
  },
  {
   "cell_type": "markdown",
   "metadata": {},
   "source": [
    "### b - 2-D Datensätze\n",
    "Das ganz lässt sich auch problemlos in 2 Dimensionen verwenden. Hier können z.B. zusätzliche Punkte für die Bilddarstellung errechnet werden. Vor allem können aber Datensätze, die nicht auf einem Gitter basieren auf ein solches interpoliert werden."
   ]
  },
  {
   "cell_type": "code",
   "execution_count": null,
   "metadata": {
    "ExecuteTime": {
     "end_time": "2020-06-06T13:31:16.408952Z",
     "start_time": "2020-06-06T13:31:16.391740Z"
    }
   },
   "outputs": [],
   "source": [
    "points = [[0.038, 1.707], [-0.469, -2.031], [-1.89, 0.23], [-3.05, -1.691], [2.835, -1.685], [3.697, 0.209],\n",
    "          [4.643, 2.875], [-0.389, -2.988], [-1.159, -4.598], [-4.748, -2.183], [4.777, -2.988],\n",
    "          [-2.313, -4.467], [-3.386, 0.968], [4.098, -0.859], [1.852, 1.741], [-1.279, -0.837],\n",
    "          [2.018, -4.945], [0.974, -4.908], [1.951, -4.355], [3.558, -2.084], [-2.694, -3.296],\n",
    "          [1.997, 0.255], [2.402, -1.528], [4.349, 3.802], [4.91, -2.103], [-1.709, 0.096], [-1.28, 1.357],\n",
    "          [-1.639, 2.765], [-3.392, -4.457], [-2.028, 1.585], [-3.985, 0.135], [0.023, -0.524],\n",
    "          [-0.033, 3.967], [-3.867, 0.223], [-3.986, -4.924], [-4.333, 1.617], [-0.558, -4.008],\n",
    "          [-3.794, -4.278], [-3.315, 3.783], [2.153, 0.521], [-4.624, -2.78], [3.974, 4.713],\n",
    "          [-3.991, 3.727], [-0.312, -0.263], [-1.012, 2.597], [2.344, -3.479], [0.565, -0.039],\n",
    "          [-3.993, -4.057], [1.216, -3.822], [-3.584, -3.636], [-1.898, -2.769], [4.643, 4.015],\n",
    "          [3.875, -3.351], [-1.853, 3.692], [-4.229, -4.745], [2.182, -3.34], [-3.27, 4.909],\n",
    "          [-1.267, -0.892], [-2.916, 0.546], [-1.601, -1.945], [-1.373, -2.899], [-0.362, 2.788],\n",
    "          [0.637, -2.664], [4.537, -0.281], [4.033, 4.851], [3.963, 0.835], [2.331, -2.966], [3.165, 4.678],\n",
    "          [-4.865, -2.467], [1.634, 4.091], [-3.305, -0.509], [3.449, -4.721], [1.837, -3.851],\n",
    "          [4.077, -2.891], [-0.36, -3.79], [-2.855, 4.334], [-4.232, -1.513], [3.523, -2.701],\n",
    "          [3.637, -3.421], [-2.277, 1.645], [-1.758, 0.255], [-4.847, 1.499], [4.855, 0.331],\n",
    "          [-2.227, -1.455], [2.605, 1.883], [1.339, -1.142], [-4.036, 2.452], [2.741, -2.258],\n",
    "          [-3.939, 2.467], [1.528, 4.501], [-1.533, 0.113], [-4.897, -3.676], [-2.512, -4.132],\n",
    "          [-2.215, -4.591], [1.95, 0.833], [4.72, 2.338], [0.777, -2.38], [-1.16, 1.33], [-0.149, -4.46],\n",
    "          [2.495, 1.589]]\n",
    "values = [0.089, 0.67, -2.096, -1.869, 1.378, 3.567, -2.252, 1.104, 4.984, -4.371, 3.348, 4.715, -2.762,\n",
    "          4.428, 2.866, -0.367, -6.042, -4.813, -5.157, 2.639, 1.635, 2.213, 0.703, -4.963, 4.499, -1.802,\n",
    "          -2.297, -3.065, 0.969, -2.846, -3.875, 0.01, -0.119, -3.695, -0.58, -1.489, 2.357, -0.557, 1.696,\n",
    "          2.516, -3.601, -6.296, 3.949, -0.229, -2.475, -2.883, 0.544, -1.287, -3.99, -0.679, 2.27, -5.971,\n",
    "          1.839, -3.042, -1.162, -2.952, 3.158, -0.292, -2.93, 1.042, 2.676, -1.052, -1.433, 4.769, -6.816,\n",
    "          3.011, -1.945, -2.31, -4.049, 3.336, -3.282, -1.022, -4.352, 2.837, 1.448, 0.379, -4.419, 1.777,\n",
    "          1.122, -2.801, -1.995, -2.063, 4.462, -0.511, 2.496, 0.016, 0.547, 0.29, 0.461, 3.537, -1.644,\n",
    "          -2.321, 3.626, 5.139, 2.557, -0.491, -1.379, -2.132, 0.754, 2.705]"
   ]
  },
  {
   "cell_type": "markdown",
   "metadata": {},
   "source": [
    "Stellen Sie die Daten in einem 2D Plot da. Nutzen Sie die Interpolation um die benötigten Daten zu berechnen."
   ]
  },
  {
   "cell_type": "code",
   "execution_count": null,
   "metadata": {
    "ExecuteTime": {
     "end_time": "2020-06-06T13:31:16.672034Z",
     "start_time": "2020-06-06T13:31:16.410485Z"
    },
    "deletable": false,
    "nbgrader": {
     "cell_type": "code",
     "checksum": "4c29e69bb643fc7637753c978ff66637",
     "grade": true,
     "grade_id": "cell-2dGridplot",
     "locked": false,
     "points": 1,
     "schema_version": 3,
     "solution": true,
     "task": false
    }
   },
   "outputs": [],
   "source": [
    "# YOUR CODE HERE\n",
    "raise NotImplementedError()"
   ]
  },
  {
   "cell_type": "markdown",
   "metadata": {
    "deletable": false,
    "editable": false,
    "nbgrader": {
     "cell_type": "markdown",
     "checksum": "f3ec9f189dedaa6f3fd51c667d104729",
     "grade": false,
     "grade_id": "cell-584a589bd50a1d34",
     "locked": true,
     "schema_version": 3,
     "solution": false,
     "task": false
    }
   },
   "source": [
    "## Aufgabe 4 - Lineare Algebra\n",
    "Viele Verfahren beruhen auf dem Lösen von Gleichungssystemen, etwa das Knotenpotentialverfahren für die Lösung von elektrischen Schaltungen oder die Finite Elemente Methode für die Lösung von schwierigen partiellen Differentialgleichungen, etwa in der Strömungsmechanik. Mit `linalg` steht auch hier ein Modul zur Verfügung."
   ]
  },
  {
   "cell_type": "markdown",
   "metadata": {
    "ExecuteTime": {
     "end_time": "2020-06-06T12:28:42.637929Z",
     "start_time": "2020-06-06T12:28:42.496889Z"
    },
    "deletable": false,
    "editable": false,
    "nbgrader": {
     "cell_type": "markdown",
     "checksum": "e0df06390150a04825a89edb8240bfbe",
     "grade": false,
     "grade_id": "cell-c492a03ce7c98943",
     "locked": true,
     "schema_version": 3,
     "solution": false,
     "task": false
    }
   },
   "source": [
    "### a - Lösen von Gleichungssystemen"
   ]
  },
  {
   "cell_type": "markdown",
   "metadata": {
    "deletable": false,
    "editable": false,
    "nbgrader": {
     "cell_type": "markdown",
     "checksum": "a3e885753030a9dbca50521e55ef935e",
     "grade": false,
     "grade_id": "cell-1d0f574e0fe52aaf",
     "locked": true,
     "schema_version": 3,
     "solution": false,
     "task": false
    }
   },
   "source": [
    "Lösen Sie das Gleichungssystem\n",
    "\n",
    "$A x = b$\n",
    "\n",
    "für $b = [1, 0, 0, 2]$ und $A = \\begin{pmatrix} 1 & 0 & 0 & 0 \\\\\n",
    "-1 & 2 & -1 & 0 \\\\\n",
    "0 & -1 & 2 & -1 \\\\\n",
    "0 & 0 & 0 & 1\\end{pmatrix}$\n",
    "\n",
    "nach $x$ auf."
   ]
  },
  {
   "cell_type": "code",
   "execution_count": null,
   "metadata": {
    "ExecuteTime": {
     "end_time": "2020-06-06T13:31:16.677220Z",
     "start_time": "2020-06-06T13:31:16.673660Z"
    },
    "deletable": false,
    "nbgrader": {
     "cell_type": "code",
     "checksum": "2b5e8ea4a14c76025d66e01f235bf128",
     "grade": false,
     "grade_id": "cell-linalg-solve",
     "locked": false,
     "schema_version": 3,
     "solution": true,
     "task": false
    }
   },
   "outputs": [],
   "source": [
    "# YOUR CODE HERE\n",
    "raise NotImplementedError()"
   ]
  },
  {
   "cell_type": "code",
   "execution_count": null,
   "metadata": {
    "ExecuteTime": {
     "end_time": "2020-06-06T13:31:16.792395Z",
     "start_time": "2020-06-06T13:31:16.678753Z"
    },
    "deletable": false,
    "editable": false,
    "nbgrader": {
     "cell_type": "code",
     "checksum": "13ffbf4feff1bc05927f81e1d4ce2492",
     "grade": true,
     "grade_id": "cell-linalg-solve-test",
     "locked": true,
     "points": 1,
     "schema_version": 3,
     "solution": false,
     "task": false
    }
   },
   "outputs": [],
   "source": [
    "assert np.array_equal(np.round(x, 5), [1., 1.33333, 1.66667, 2.])"
   ]
  },
  {
   "cell_type": "markdown",
   "metadata": {
    "deletable": false,
    "editable": false,
    "nbgrader": {
     "cell_type": "markdown",
     "checksum": "284fdfdd5f78f9b29b1b6686816df3a0",
     "grade": false,
     "grade_id": "cell-b557680bc180e530",
     "locked": true,
     "schema_version": 3,
     "solution": false,
     "task": false
    }
   },
   "source": [
    "### b - Diverse andere Funktionen\n",
    "Es findet sich noch eine große Sammlung an anderen nützlichen Funktionen, berechnen Sie für die Matrix $A$ aus der vorherigen Aufgabe die\n",
    "* inverse Matrix `inverse_matrix`\n",
    "* Determinante `det_matrix`\n",
    "* Eigenvektoren `eig_values`\n",
    "* Eigenwerte `eig_vectors`"
   ]
  },
  {
   "cell_type": "code",
   "execution_count": null,
   "metadata": {
    "ExecuteTime": {
     "end_time": "2020-06-06T13:31:16.900788Z",
     "start_time": "2020-06-06T13:31:16.794832Z"
    },
    "deletable": false,
    "nbgrader": {
     "cell_type": "code",
     "checksum": "af836183500f1aa6825fbd405d1f9c3b",
     "grade": false,
     "grade_id": "cell-linalg-div",
     "locked": false,
     "schema_version": 3,
     "solution": true,
     "task": false
    }
   },
   "outputs": [],
   "source": [
    "# YOUR CODE HERE\n",
    "raise NotImplementedError()"
   ]
  },
  {
   "cell_type": "code",
   "execution_count": null,
   "metadata": {
    "ExecuteTime": {
     "end_time": "2020-06-06T13:31:17.008239Z",
     "start_time": "2020-06-06T13:31:16.902801Z"
    },
    "deletable": false,
    "editable": false,
    "nbgrader": {
     "cell_type": "code",
     "checksum": "f48520fed7d4073ef2cf0f562e18cd30",
     "grade": true,
     "grade_id": "cell-linalg-div-test",
     "locked": true,
     "points": 1,
     "schema_version": 3,
     "solution": false,
     "task": false
    }
   },
   "outputs": [],
   "source": [
    "assert np.array_equal(np.round(inverse_matrix, 5),\n",
    "                      [[1., 0., 0., -0.], [0.66667, 0.66667, 0.33333, 0.33333],\n",
    "                       [ 0.33333, 0.33333, 0.66667, 0.66667], [0., 0., 0., 1.]])\n",
    "assert det_matrix == 3\n",
    "assert np.array_equal(eig_values, [3., 1., 1., 1.])\n",
    "assert np.array_equal(np.round(eig_vectors, 5), [[ 0., 0., 0., 0.],\n",
    "                                                 [-0.70711, 0.70711, 0.70711, 0.70711],\n",
    "                                                 [ 0.70711, 0.70711, 0.70711, 0.70711],\n",
    "                                                 [ 0., 0., 0., 0.]])"
   ]
  },
  {
   "cell_type": "markdown",
   "metadata": {
    "deletable": false,
    "editable": false,
    "nbgrader": {
     "cell_type": "markdown",
     "checksum": "010d735b6f88dc26b4d41269a3807375",
     "grade": false,
     "grade_id": "cell-28cf2b778c1eedd7",
     "locked": true,
     "schema_version": 3,
     "solution": false,
     "task": false
    }
   },
   "source": [
    "## Aufgabe 5 - Glättung\n",
    "Manchmal sind Daten stark verrauscht, dann hilft eine Glättung. Hier bietet SciPy eine Menge Möglichkeiten, jetzt beschränken wir uns jedoch auf `gaussian_filter1d` und `gaussian_filter` aus dem `ndimage` Modul"
   ]
  },
  {
   "cell_type": "markdown",
   "metadata": {},
   "source": [
    "### a - Der 1D Fall\n",
    "Glätten Sie und stellen Sie dar für $\\sigma=0.5$, $\\sigma=1.5$ und $\\sigma=5$"
   ]
  },
  {
   "cell_type": "code",
   "execution_count": null,
   "metadata": {
    "ExecuteTime": {
     "end_time": "2020-06-06T13:31:17.616526Z",
     "start_time": "2020-06-06T13:31:17.010080Z"
    },
    "deletable": false,
    "nbgrader": {
     "cell_type": "code",
     "checksum": "2009463f6dcbd2074b7691611464ccd1",
     "grade": true,
     "grade_id": "cell-gauss1d",
     "locked": false,
     "points": 1,
     "schema_version": 3,
     "solution": true,
     "task": false
    }
   },
   "outputs": [],
   "source": [
    "# YOUR CODE HERE\n",
    "raise NotImplementedError()"
   ]
  },
  {
   "cell_type": "markdown",
   "metadata": {
    "deletable": false,
    "editable": false,
    "nbgrader": {
     "cell_type": "markdown",
     "checksum": "f66eddfb09a5e88ced2fca71237f6baa",
     "grade": false,
     "grade_id": "cell-858459821fc5b7e3",
     "locked": true,
     "schema_version": 3,
     "solution": false,
     "task": false
    }
   },
   "source": [
    "### b - Der 2D Fall\n",
    "Verrauschte Bilder können durch einen Gaußfilter wieder klarer werden, wobei auch ein starker weichzeichnender Effekt auftritt. Gegeben ist das Bild `moon.png` nutzen Sie einen Gaußfilter um das Rauschen zu reduzieren. Können Sie die blaue Farbe des Himmels wiederherstellen?"
   ]
  },
  {
   "cell_type": "code",
   "execution_count": null,
   "metadata": {
    "ExecuteTime": {
     "end_time": "2020-06-06T13:31:17.812120Z",
     "start_time": "2020-06-06T13:31:17.618236Z"
    }
   },
   "outputs": [],
   "source": [
    "im = plt.imread('moon.png')\n",
    "plt.imshow(im)\n",
    "plt.show()"
   ]
  },
  {
   "cell_type": "code",
   "execution_count": null,
   "metadata": {
    "ExecuteTime": {
     "end_time": "2020-06-06T13:31:18.004619Z",
     "start_time": "2020-06-06T13:31:17.813228Z"
    },
    "deletable": false,
    "nbgrader": {
     "cell_type": "code",
     "checksum": "5ec477230120362f31c62477574f74e9",
     "grade": true,
     "grade_id": "cell-ndi2",
     "locked": false,
     "points": 1,
     "schema_version": 3,
     "solution": true,
     "task": false
    }
   },
   "outputs": [],
   "source": [
    "# YOUR CODE HERE\n",
    "raise NotImplementedError()"
   ]
  }
 ],
 "metadata": {
  "kernelspec": {
   "display_name": "Python 3",
   "language": "python",
   "name": "python3"
  },
  "language_info": {
   "codemirror_mode": {
    "name": "ipython",
    "version": 3
   },
   "file_extension": ".py",
   "mimetype": "text/x-python",
   "name": "python",
   "nbconvert_exporter": "python",
   "pygments_lexer": "ipython3",
   "version": "3.7.6"
  },
  "toc": {
   "base_numbering": 1,
   "nav_menu": {},
   "number_sections": true,
   "sideBar": true,
   "skip_h1_title": false,
   "title_cell": "Table of Contents",
   "title_sidebar": "Contents",
   "toc_cell": false,
   "toc_position": {},
   "toc_section_display": true,
   "toc_window_display": false
  }
 },
 "nbformat": 4,
 "nbformat_minor": 4
}
